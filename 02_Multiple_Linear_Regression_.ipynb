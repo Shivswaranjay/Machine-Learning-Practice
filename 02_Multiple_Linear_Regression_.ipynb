{
  "nbformat": 4,
  "nbformat_minor": 0,
  "metadata": {
    "colab": {
      "provenance": [],
      "include_colab_link": true
    },
    "kernelspec": {
      "name": "python3",
      "display_name": "Python 3"
    }
  },
  "cells": [
    {
      "cell_type": "markdown",
      "metadata": {
        "id": "view-in-github",
        "colab_type": "text"
      },
      "source": [
        "<a href=\"https://colab.research.google.com/github/Shivswaranjay/Machine-Learning-Practice/blob/main/02_Multiple_Linear_Regression_.ipynb\" target=\"_parent\"><img src=\"https://colab.research.google.com/assets/colab-badge.svg\" alt=\"Open In Colab\"/></a>"
      ]
    },
    {
      "cell_type": "markdown",
      "metadata": {
        "id": "FB7mg-9WUSAn"
      },
      "source": [
        "# Multiple Linear Regression "
      ]
    },
    {
      "cell_type": "markdown",
      "metadata": {
        "id": "zcXufiytUV3b"
      },
      "source": [
        "## Importing Libraries"
      ]
    },
    {
      "cell_type": "code",
      "source": [
        "import pandas as pd\n",
        "import numpy as np\n",
        "import matplotlib.pyplot as plt"
      ],
      "metadata": {
        "id": "OJT0AyV1D4CE"
      },
      "execution_count": 1,
      "outputs": []
    },
    {
      "cell_type": "markdown",
      "metadata": {
        "id": "x1V8I7-1Ugu8"
      },
      "source": [
        "## Importing Data Set"
      ]
    },
    {
      "cell_type": "code",
      "source": [
        "dataset = pd.read_csv(\"Dataset_master.xlsx - Covid_data Multiple Linear Regr.csv\")\n",
        "X = dataset.iloc[:,:-1].values\n",
        "y = dataset.iloc[:,-1].values"
      ],
      "metadata": {
        "id": "8I_7QbuhEZLi"
      },
      "execution_count": 8,
      "outputs": []
    },
    {
      "cell_type": "code",
      "source": [
        "print(X)"
      ],
      "metadata": {
        "colab": {
          "base_uri": "https://localhost:8080/"
        },
        "id": "MlL6q_ovGIZM",
        "outputId": "9824e5f4-3334-4aa6-d98c-fac166f911c3"
      },
      "execution_count": 7,
      "outputs": [
        {
          "output_type": "stream",
          "name": "stdout",
          "text": [
            "[[10 'Moderate' 0 97]\n",
            " [80 'High' 0 92]\n",
            " [10 'Low' 0 97]\n",
            " [81 'High' 4 75]\n",
            " [12 'Moderate' 0 97]\n",
            " [18 'Low' 0 66]\n",
            " [13 'Moderate' 0 93]\n",
            " [94 'High' 4 64]\n",
            " [86 'High' 2 76]\n",
            " [20 'Moderate' 0 92]\n",
            " [15 'Moderate' 0 94]\n",
            " [15 'Moderate' 0 92]\n",
            " [16 'Low' 0 92]\n",
            " [17 'Moderate' 0 93]\n",
            " [18 'Moderate' 0 93]\n",
            " [19 'Moderate' 0 92]\n",
            " [19 'Moderate' 0 89]\n",
            " [12 'Moderate' 0 97]\n",
            " [20 'Moderate' 0 93]\n",
            " [24 'Moderate' 0 92]\n",
            " [25 'Moderate' 0 93]\n",
            " [59 'High' 2 68]\n",
            " [63 'High' 1 66]\n",
            " [25 'Moderate' 1 62]\n",
            " [26 'High' 0 94]\n",
            " [26 'Low' 0 97]\n",
            " [28 'Moderate' 0 99]\n",
            " [59 'High' 0 69]\n",
            " [28 'Moderate' 0 89]\n",
            " [29 'Moderate' 0 93]\n",
            " [48 'Moderate' 0 93]\n",
            " [30 'Moderate' 0 62]\n",
            " [30 'Moderate' 0 86]\n",
            " [32 'Moderate' 0 84]\n",
            " [34 'Moderate' 1 90]\n",
            " [35 'Moderate' 0 89]\n",
            " [50 'High' 2 77]\n",
            " [56 'High' 2 76]\n",
            " [56 'High' 1 77]\n",
            " [36 'High' 1 90]\n",
            " [38 'High' 2 75]\n",
            " [40 'Moderate' 0 90]\n",
            " [40 'High' 0 92]\n",
            " [61 'High' 2 76]\n",
            " [42 'High' 0 92]\n",
            " [46 'High' 0 91]\n",
            " [49 'Moderate' 0 80]\n",
            " [52 'High' 1 80]\n",
            " [32 'Moderate' 0 89]\n",
            " [53 'High' 1 55]\n",
            " [54 'High' 1 70]\n",
            " [90 'High' 3 67]\n",
            " [78 'High' 2 71]\n",
            " [58 'High' 0 70]\n",
            " [60 'High' 1 68]\n",
            " [61 'Moderate' 0 90]\n",
            " [62 'High' 1 68]\n",
            " [86 'High' 3 71]\n",
            " [62 'High' 2 69]\n",
            " [64 'High' 1 73]\n",
            " [68 'High' 1 67]\n",
            " [69 'High' 0 53]\n",
            " [70 'Moderate' 1 88]\n",
            " [74 'High' 2 75]\n",
            " [75 'High' 1 72]\n",
            " [76 'High' 4 80]\n",
            " [35 'Moderate' 0 92]\n",
            " [13 'Moderate' 0 94]\n",
            " [82 'High' 3 73]\n",
            " [84 'High' 3 75]]\n"
          ]
        }
      ]
    },
    {
      "cell_type": "code",
      "source": [
        "print(y)"
      ],
      "metadata": {
        "colab": {
          "base_uri": "https://localhost:8080/"
        },
        "id": "gNzwjFE6GI0u",
        "outputId": "6c748875-721f-41ce-a190-9b5e9fc22bd9"
      },
      "execution_count": 9,
      "outputs": [
        {
          "output_type": "stream",
          "name": "stdout",
          "text": [
            "[127181  61004 111911  39010 110911  99110 110101  37914  45019  98101\n",
            " 101000 102019 100000  99910  99004  98191  98081 110911  97101  95202\n",
            "  95010  61002  59994  78010  92010  99008  93010  66019  93091  92101\n",
            "  83891  75012  91002  90015  90001  90124  71019  60801  67010  90191\n",
            "  78004  87019  88012  62019  87005  84008  77010  73010  91019  50104\n",
            "  61082  46016  52001  63091  62019  71191  61018  41891  56095  62001\n",
            "  59010  59913  67019  58010  57019  39010  91141 112101  42010  42099]\n"
          ]
        }
      ]
    },
    {
      "cell_type": "markdown",
      "metadata": {
        "id": "V9bZq2w39GwP"
      },
      "source": [
        "## Encoding categorical data"
      ]
    },
    {
      "cell_type": "code",
      "source": [
        "from sklearn.compose import ColumnTransformer\n",
        "from sklearn.preprocessing import OneHotEncoder\n",
        "ct = ColumnTransformer(transformers=[('encoder',OneHotEncoder(),[1])], remainder = 'passthrough')\n",
        "X = np.array(ct.fit_transform(X))"
      ],
      "metadata": {
        "id": "a-fRTuj7HwuI"
      },
      "execution_count": 11,
      "outputs": []
    },
    {
      "cell_type": "code",
      "source": [
        "print(X)"
      ],
      "metadata": {
        "colab": {
          "base_uri": "https://localhost:8080/"
        },
        "id": "BgHXqLizIxyC",
        "outputId": "344377fd-75f7-4cdc-db7d-3a6761083253"
      },
      "execution_count": 12,
      "outputs": [
        {
          "output_type": "stream",
          "name": "stdout",
          "text": [
            "[[0.0 0.0 1.0 10 0 97]\n",
            " [1.0 0.0 0.0 80 0 92]\n",
            " [0.0 1.0 0.0 10 0 97]\n",
            " [1.0 0.0 0.0 81 4 75]\n",
            " [0.0 0.0 1.0 12 0 97]\n",
            " [0.0 1.0 0.0 18 0 66]\n",
            " [0.0 0.0 1.0 13 0 93]\n",
            " [1.0 0.0 0.0 94 4 64]\n",
            " [1.0 0.0 0.0 86 2 76]\n",
            " [0.0 0.0 1.0 20 0 92]\n",
            " [0.0 0.0 1.0 15 0 94]\n",
            " [0.0 0.0 1.0 15 0 92]\n",
            " [0.0 1.0 0.0 16 0 92]\n",
            " [0.0 0.0 1.0 17 0 93]\n",
            " [0.0 0.0 1.0 18 0 93]\n",
            " [0.0 0.0 1.0 19 0 92]\n",
            " [0.0 0.0 1.0 19 0 89]\n",
            " [0.0 0.0 1.0 12 0 97]\n",
            " [0.0 0.0 1.0 20 0 93]\n",
            " [0.0 0.0 1.0 24 0 92]\n",
            " [0.0 0.0 1.0 25 0 93]\n",
            " [1.0 0.0 0.0 59 2 68]\n",
            " [1.0 0.0 0.0 63 1 66]\n",
            " [0.0 0.0 1.0 25 1 62]\n",
            " [1.0 0.0 0.0 26 0 94]\n",
            " [0.0 1.0 0.0 26 0 97]\n",
            " [0.0 0.0 1.0 28 0 99]\n",
            " [1.0 0.0 0.0 59 0 69]\n",
            " [0.0 0.0 1.0 28 0 89]\n",
            " [0.0 0.0 1.0 29 0 93]\n",
            " [0.0 0.0 1.0 48 0 93]\n",
            " [0.0 0.0 1.0 30 0 62]\n",
            " [0.0 0.0 1.0 30 0 86]\n",
            " [0.0 0.0 1.0 32 0 84]\n",
            " [0.0 0.0 1.0 34 1 90]\n",
            " [0.0 0.0 1.0 35 0 89]\n",
            " [1.0 0.0 0.0 50 2 77]\n",
            " [1.0 0.0 0.0 56 2 76]\n",
            " [1.0 0.0 0.0 56 1 77]\n",
            " [1.0 0.0 0.0 36 1 90]\n",
            " [1.0 0.0 0.0 38 2 75]\n",
            " [0.0 0.0 1.0 40 0 90]\n",
            " [1.0 0.0 0.0 40 0 92]\n",
            " [1.0 0.0 0.0 61 2 76]\n",
            " [1.0 0.0 0.0 42 0 92]\n",
            " [1.0 0.0 0.0 46 0 91]\n",
            " [0.0 0.0 1.0 49 0 80]\n",
            " [1.0 0.0 0.0 52 1 80]\n",
            " [0.0 0.0 1.0 32 0 89]\n",
            " [1.0 0.0 0.0 53 1 55]\n",
            " [1.0 0.0 0.0 54 1 70]\n",
            " [1.0 0.0 0.0 90 3 67]\n",
            " [1.0 0.0 0.0 78 2 71]\n",
            " [1.0 0.0 0.0 58 0 70]\n",
            " [1.0 0.0 0.0 60 1 68]\n",
            " [0.0 0.0 1.0 61 0 90]\n",
            " [1.0 0.0 0.0 62 1 68]\n",
            " [1.0 0.0 0.0 86 3 71]\n",
            " [1.0 0.0 0.0 62 2 69]\n",
            " [1.0 0.0 0.0 64 1 73]\n",
            " [1.0 0.0 0.0 68 1 67]\n",
            " [1.0 0.0 0.0 69 0 53]\n",
            " [0.0 0.0 1.0 70 1 88]\n",
            " [1.0 0.0 0.0 74 2 75]\n",
            " [1.0 0.0 0.0 75 1 72]\n",
            " [1.0 0.0 0.0 76 4 80]\n",
            " [0.0 0.0 1.0 35 0 92]\n",
            " [0.0 0.0 1.0 13 0 94]\n",
            " [1.0 0.0 0.0 82 3 73]\n",
            " [1.0 0.0 0.0 84 3 75]]\n"
          ]
        }
      ]
    },
    {
      "cell_type": "markdown",
      "metadata": {
        "id": "2vBbKI1BUilB"
      },
      "source": [
        "## Splitting into test and training set"
      ]
    },
    {
      "cell_type": "code",
      "source": [
        "from sklearn.model_selection import train_test_split\n",
        "X_train, X_test, y_train, y_test = train_test_split(X, y, test_size=0.3 ,random_state=19)"
      ],
      "metadata": {
        "id": "GsSIS2gsI8De"
      },
      "execution_count": 13,
      "outputs": []
    },
    {
      "cell_type": "markdown",
      "metadata": {
        "id": "K6uEL0b5Utac"
      },
      "source": [
        "## Training the Multiple Linear Regression model on the Training set"
      ]
    },
    {
      "cell_type": "code",
      "source": [
        "from sklearn.linear_model import LinearRegression\n",
        "regressor = LinearRegression()\n",
        "regressor.fit(X_train, y_train)"
      ],
      "metadata": {
        "colab": {
          "base_uri": "https://localhost:8080/",
          "height": 74
        },
        "id": "w2pdYmoAJmPf",
        "outputId": "d03320aa-6558-463f-f309-fbe114e2cbd1"
      },
      "execution_count": 15,
      "outputs": [
        {
          "output_type": "execute_result",
          "data": {
            "text/plain": [
              "LinearRegression()"
            ],
            "text/html": [
              "<style>#sk-container-id-1 {color: black;background-color: white;}#sk-container-id-1 pre{padding: 0;}#sk-container-id-1 div.sk-toggleable {background-color: white;}#sk-container-id-1 label.sk-toggleable__label {cursor: pointer;display: block;width: 100%;margin-bottom: 0;padding: 0.3em;box-sizing: border-box;text-align: center;}#sk-container-id-1 label.sk-toggleable__label-arrow:before {content: \"▸\";float: left;margin-right: 0.25em;color: #696969;}#sk-container-id-1 label.sk-toggleable__label-arrow:hover:before {color: black;}#sk-container-id-1 div.sk-estimator:hover label.sk-toggleable__label-arrow:before {color: black;}#sk-container-id-1 div.sk-toggleable__content {max-height: 0;max-width: 0;overflow: hidden;text-align: left;background-color: #f0f8ff;}#sk-container-id-1 div.sk-toggleable__content pre {margin: 0.2em;color: black;border-radius: 0.25em;background-color: #f0f8ff;}#sk-container-id-1 input.sk-toggleable__control:checked~div.sk-toggleable__content {max-height: 200px;max-width: 100%;overflow: auto;}#sk-container-id-1 input.sk-toggleable__control:checked~label.sk-toggleable__label-arrow:before {content: \"▾\";}#sk-container-id-1 div.sk-estimator input.sk-toggleable__control:checked~label.sk-toggleable__label {background-color: #d4ebff;}#sk-container-id-1 div.sk-label input.sk-toggleable__control:checked~label.sk-toggleable__label {background-color: #d4ebff;}#sk-container-id-1 input.sk-hidden--visually {border: 0;clip: rect(1px 1px 1px 1px);clip: rect(1px, 1px, 1px, 1px);height: 1px;margin: -1px;overflow: hidden;padding: 0;position: absolute;width: 1px;}#sk-container-id-1 div.sk-estimator {font-family: monospace;background-color: #f0f8ff;border: 1px dotted black;border-radius: 0.25em;box-sizing: border-box;margin-bottom: 0.5em;}#sk-container-id-1 div.sk-estimator:hover {background-color: #d4ebff;}#sk-container-id-1 div.sk-parallel-item::after {content: \"\";width: 100%;border-bottom: 1px solid gray;flex-grow: 1;}#sk-container-id-1 div.sk-label:hover label.sk-toggleable__label {background-color: #d4ebff;}#sk-container-id-1 div.sk-serial::before {content: \"\";position: absolute;border-left: 1px solid gray;box-sizing: border-box;top: 0;bottom: 0;left: 50%;z-index: 0;}#sk-container-id-1 div.sk-serial {display: flex;flex-direction: column;align-items: center;background-color: white;padding-right: 0.2em;padding-left: 0.2em;position: relative;}#sk-container-id-1 div.sk-item {position: relative;z-index: 1;}#sk-container-id-1 div.sk-parallel {display: flex;align-items: stretch;justify-content: center;background-color: white;position: relative;}#sk-container-id-1 div.sk-item::before, #sk-container-id-1 div.sk-parallel-item::before {content: \"\";position: absolute;border-left: 1px solid gray;box-sizing: border-box;top: 0;bottom: 0;left: 50%;z-index: -1;}#sk-container-id-1 div.sk-parallel-item {display: flex;flex-direction: column;z-index: 1;position: relative;background-color: white;}#sk-container-id-1 div.sk-parallel-item:first-child::after {align-self: flex-end;width: 50%;}#sk-container-id-1 div.sk-parallel-item:last-child::after {align-self: flex-start;width: 50%;}#sk-container-id-1 div.sk-parallel-item:only-child::after {width: 0;}#sk-container-id-1 div.sk-dashed-wrapped {border: 1px dashed gray;margin: 0 0.4em 0.5em 0.4em;box-sizing: border-box;padding-bottom: 0.4em;background-color: white;}#sk-container-id-1 div.sk-label label {font-family: monospace;font-weight: bold;display: inline-block;line-height: 1.2em;}#sk-container-id-1 div.sk-label-container {text-align: center;}#sk-container-id-1 div.sk-container {/* jupyter's `normalize.less` sets `[hidden] { display: none; }` but bootstrap.min.css set `[hidden] { display: none !important; }` so we also need the `!important` here to be able to override the default hidden behavior on the sphinx rendered scikit-learn.org. See: https://github.com/scikit-learn/scikit-learn/issues/21755 */display: inline-block !important;position: relative;}#sk-container-id-1 div.sk-text-repr-fallback {display: none;}</style><div id=\"sk-container-id-1\" class=\"sk-top-container\"><div class=\"sk-text-repr-fallback\"><pre>LinearRegression()</pre><b>In a Jupyter environment, please rerun this cell to show the HTML representation or trust the notebook. <br />On GitHub, the HTML representation is unable to render, please try loading this page with nbviewer.org.</b></div><div class=\"sk-container\" hidden><div class=\"sk-item\"><div class=\"sk-estimator sk-toggleable\"><input class=\"sk-toggleable__control sk-hidden--visually\" id=\"sk-estimator-id-1\" type=\"checkbox\" checked><label for=\"sk-estimator-id-1\" class=\"sk-toggleable__label sk-toggleable__label-arrow\">LinearRegression</label><div class=\"sk-toggleable__content\"><pre>LinearRegression()</pre></div></div></div></div></div>"
            ]
          },
          "metadata": {},
          "execution_count": 15
        }
      ]
    },
    {
      "cell_type": "markdown",
      "metadata": {
        "id": "RyRva69qUzBK"
      },
      "source": [
        "## Predicting the Test set results"
      ]
    },
    {
      "cell_type": "code",
      "source": [
        "y_pred = regressor.predict(X_test)\n",
        "np.set_printoptions(precision=3)\n",
        "print(np.concatenate((y_pred.reshape(len(y_pred), 1), y_test.reshape(len(y_test),1)), 1))"
      ],
      "metadata": {
        "colab": {
          "base_uri": "https://localhost:8080/"
        },
        "id": "w5B7M8DBM2jp",
        "outputId": "430a6902-e586-4a37-a62e-1185df86bb64"
      },
      "execution_count": 16,
      "outputs": [
        {
          "output_type": "stream",
          "name": "stdout",
          "text": [
            "[[104228.219 110101.   ]\n",
            " [ 47503.984  45019.   ]\n",
            " [ 84531.565  83891.   ]\n",
            " [ 95224.034  92101.   ]\n",
            " [ 66721.962  63091.   ]\n",
            " [ 65620.933  61004.   ]\n",
            " [100288.888  97101.   ]\n",
            " [ 87495.513  87019.   ]\n",
            " [ 77303.512  77010.   ]\n",
            " [ 44848.321  42099.   ]\n",
            " [ 98863.084  93010.   ]\n",
            " [ 51815.434  59913.   ]\n",
            " [101414.411  99004.   ]\n",
            " [ 37370.033  46016.   ]\n",
            " [ 56287.731  59010.   ]\n",
            " [ 75677.521  71191.   ]\n",
            " [ 97035.486  92010.   ]\n",
            " [ 43268.133  39010.   ]\n",
            " [ 61615.065  62001.   ]\n",
            " [107967.363 127181.   ]\n",
            " [ 68276.114  71019.   ]]\n"
          ]
        }
      ]
    },
    {
      "cell_type": "markdown",
      "metadata": {
        "id": "uziF7cmeU4tJ"
      },
      "source": [
        "## Visualizing results"
      ]
    },
    {
      "cell_type": "code",
      "source": [
        "plt.plot(y_pred)\n",
        "plt.plot(y_test)\n",
        "plt.show()"
      ],
      "metadata": {
        "colab": {
          "base_uri": "https://localhost:8080/",
          "height": 430
        },
        "id": "sOp4IHtMTMVG",
        "outputId": "f965071b-abc4-490c-bf32-7378b48c257b"
      },
      "execution_count": 17,
      "outputs": [
        {
          "output_type": "display_data",
          "data": {
            "text/plain": [
              "<Figure size 640x480 with 1 Axes>"
            ],
            "image/png": "[encoded data removed]"
          },
          "metadata": {}
        }
      ]
    }
  ]
}